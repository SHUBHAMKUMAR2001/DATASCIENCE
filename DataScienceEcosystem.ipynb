{
 "cells": [
  {
   "cell_type": "markdown",
   "id": "8c709968",
   "metadata": {},
   "source": [
    "# Data Science Tools and Ecosystem"
   ]
  },
  {
   "cell_type": "markdown",
   "id": "8fb6f7e8",
   "metadata": {},
   "source": [
    "## In this notebook, Data Science Tools and Ecosystem are summarized."
   ]
  },
  {
   "cell_type": "markdown",
   "id": "d7f619fb",
   "metadata": {},
   "source": [
    "**Objectives:** \\\n",
    "-List popular languages for Data Science\\\n",
    "-List commonly used libraries used by Data Scientists\\\n",
    "-List few examples of evaluating arithmetic expressions in Python\\\n",
    "## Some of the popular languages that Data Scientists use are:\n",
    "\n"
   ]
  },
  {
   "cell_type": "markdown",
   "id": "c116e018",
   "metadata": {},
   "source": [
    "1.PYTHON\\\n",
    "2.R\\\n",
    "3.SQL"
   ]
  },
  {
   "cell_type": "markdown",
   "id": "a096d980",
   "metadata": {},
   "source": [
    "# Some of the commonly used libraries used by Data Scientists include:"
   ]
  },
  {
   "cell_type": "markdown",
   "id": "588f4902",
   "metadata": {},
   "source": [
    "1.pandas\\\n",
    "2.numpy\\\n",
    "3.matplotlib"
   ]
  },
  {
   "cell_type": "markdown",
   "id": "8779b312",
   "metadata": {},
   "source": [
    "|Data Science Tools|\n",
    "|------------------|\n",
    "|TensorFlow        |\n",
    "|RStudio           |\n",
    "|Apache Spark      |"
   ]
  },
  {
   "cell_type": "markdown",
   "id": "55961b7c",
   "metadata": {},
   "source": [
    "### Below are a few examples of evaluating arithmetic expressions in Python\n",
    "\n",
    "- $\\hat{Y} = \\hat{\\beta}_{0} + \\sum \\limits _{j=1} ^{p} X_{j}\\hat{\\beta}_{j} $\n",
    "- $\\hat{Y} = \\hat{\\beta}_{0} + \\sum \\limits _{j=1} ^{p} X_{j}$"
   ]
  },
  {
   "cell_type": "markdown",
   "id": "9fa64b91",
   "metadata": {},
   "source": [
    "### This a simple arithmetic expression to mutiply then add integers\n"
   ]
  },
  {
   "cell_type": "code",
   "execution_count": 6,
   "id": "41ab9e5d",
   "metadata": {},
   "outputs": [
    {
     "data": {
      "text/plain": [
       "17"
      ]
     },
     "execution_count": 6,
     "metadata": {},
     "output_type": "execute_result"
    }
   ],
   "source": [
    "(3*4)+5"
   ]
  },
  {
   "cell_type": "markdown",
   "id": "43cd6e7f",
   "metadata": {},
   "source": [
    "### This will convert 200 minutes to hours by diving by 60"
   ]
  },
  {
   "cell_type": "code",
   "execution_count": 11,
   "id": "181a6e74",
   "metadata": {},
   "outputs": [
    {
     "data": {
      "text/plain": [
       "3.3333333333333335"
      ]
     },
     "execution_count": 11,
     "metadata": {},
     "output_type": "execute_result"
    }
   ],
   "source": [
    "(200/60) \n"
   ]
  },
  {
   "cell_type": "markdown",
   "id": "69b4aad9",
   "metadata": {},
   "source": [
    "## Author \n",
    "## SHUBHAM KUMAR"
   ]
  },
  {
   "cell_type": "code",
   "execution_count": null,
   "id": "6b5ee7ca",
   "metadata": {},
   "outputs": [],
   "source": []
  },
  {
   "cell_type": "code",
   "execution_count": null,
   "id": "db73eeef",
   "metadata": {},
   "outputs": [],
   "source": []
  }
 ],
 "metadata": {
  "kernelspec": {
   "display_name": "Python 3 (ipykernel)",
   "language": "python",
   "name": "python3"
  },
  "language_info": {
   "codemirror_mode": {
    "name": "ipython",
    "version": 3
   },
   "file_extension": ".py",
   "mimetype": "text/x-python",
   "name": "python",
   "nbconvert_exporter": "python",
   "pygments_lexer": "ipython3",
   "version": "3.11.2"
  }
 },
 "nbformat": 4,
 "nbformat_minor": 5
}
